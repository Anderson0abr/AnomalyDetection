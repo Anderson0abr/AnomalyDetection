{
 "cells": [
  {
   "cell_type": "code",
   "execution_count": 156,
   "metadata": {
    "scrolled": true
   },
   "outputs": [],
   "source": [
    "import pandas as pd\n",
    "import numpy as np\n",
    "from sklearn import preprocessing \n",
    "from sklearn_pandas import DataFrameMapper\n",
    "from sklearn.metrics import accuracy_score\n",
    "\n",
    "#temp\n",
    "import warnings\n",
    "warnings.filterwarnings(action='ignore')\n",
    "\n",
    "def ipInt(ip):\n",
    "  ipInt = ''\n",
    "  for i in ip.split('.'):\n",
    "    ipInt += i\n",
    "  return int(ipInt)\n",
    "\n",
    "columns = [\"IP source\", \"IP destiny\", \"L2 protocol\", \"Source port\", \"Destiny port\", \"Package size\"]\n",
    "\n",
    "X_train = pd.read_csv(\"IP_DataFrame.csv\", index_col = 0)\n",
    "X_train[\"L2 protocol\"] = X_train[\"L2 protocol\"].astype(\"category\")\n",
    "\n",
    "X_test = pd.read_csv(\"IP_DataFrame_50Test.csv\", index_col = 0)\n",
    "X_test[\"L2 protocol\"] = X_test[\"L2 protocol\"].astype(\"category\")"
   ]
  },
  {
   "cell_type": "code",
   "execution_count": 157,
   "metadata": {},
   "outputs": [
    {
     "data": {
      "text/plain": [
       "DataFrameMapper(default=False, df_out=False,\n",
       "        features=[(['IP source', 'IP destiny'], StandardScaler(copy=True, with_mean=True, with_std=True)), ('L2 protocol', LabelBinarizer(neg_label=0, pos_label=1, sparse_output=False)), (['Source port', 'Destiny port', 'Package size'], StandardScaler(copy=True, with_mean=True, with_std=True))],\n",
       "        input_df=False, sparse=False)"
      ]
     },
     "execution_count": 157,
     "metadata": {},
     "output_type": "execute_result"
    }
   ],
   "source": [
    "mapper = DataFrameMapper([([\"IP source\", \"IP destiny\"], preprocessing.StandardScaler()),\n",
    "                          (\"L2 protocol\", preprocessing.LabelBinarizer()),\n",
    "                          ([\"Source port\", \"Destiny port\", \"Package size\"], preprocessing.StandardScaler())\n",
    "                         ])\n",
    "\n",
    "mapper.fit(X_train)"
   ]
  },
  {
   "cell_type": "code",
   "execution_count": 158,
   "metadata": {},
   "outputs": [],
   "source": [
    "X = mapper.transform(X_test)\n",
    "y_true = [1 if X_train.ix[i].equals(X_test.ix[i]) else -1 for i in range(X_train.shape[0])]"
   ]
  },
  {
   "cell_type": "code",
   "execution_count": 159,
   "metadata": {},
   "outputs": [
    {
     "name": "stdout",
     "output_type": "stream",
     "text": [
      "[ 1  1  1  1  1  1  1  1  1  1  1  1  1  1  1  1  1  1  1  1  1  1  1  1  1\n",
      "  1  1  1  1  1  1  1  1  1  1  1  1  1  1  1  1  1  1  1  1  1  1  1  1  1\n",
      " -1  1 -1 -1 -1  1  1  1 -1 -1 -1  1 -1 -1 -1 -1 -1  1 -1 -1 -1  1  1  1  1\n",
      "  1 -1  1  1  1  1  1 -1 -1  1  1 -1 -1 -1 -1  1  1 -1  1  1 -1 -1 -1  1 -1\n",
      "  1  1  1  1  1 -1 -1 -1  1  1  1 -1 -1  1 -1 -1  1 -1 -1 -1 -1  1  1 -1 -1\n",
      " -1 -1 -1 -1  1 -1  1  1  1 -1  1 -1  1  1 -1 -1  1  1 -1 -1 -1 -1  1 -1 -1\n",
      "  1 -1  1 -1 -1 -1 -1  1 -1  1 -1 -1 -1 -1 -1 -1 -1  1  1 -1  1 -1 -1  1 -1\n",
      " -1  1]\n",
      "Acc: 0.305084745763\n"
     ]
    }
   ],
   "source": [
    "from sklearn.svm import OneClassSVM\n",
    "clf = OneClassSVM()\n",
    "clf.fit(X)\n",
    "y_pred = clf.predict(X)\n",
    "print(y_pred)\n",
    "print(\"Acc:\", accuracy_score(y_true, y_pred))"
   ]
  },
  {
   "cell_type": "code",
   "execution_count": 160,
   "metadata": {},
   "outputs": [
    {
     "name": "stdout",
     "output_type": "stream",
     "text": [
      "[ 1  1  1  1  1  1  1  1  1  1  1  1  1  1  1  1  1  1  1  1 -1 -1  1  1  1\n",
      "  1  1 -1  1  1  1  1  1  1  1  1  1  1  1  1  1  1  1  1  1  1  1  1  1  1\n",
      "  1  1  1 -1 -1  1  1  1 -1  1  1  1  1  1 -1  1  1  1  1  1  1  1  1  1  1\n",
      "  1  1  1  1  1  1  1 -1  1  1  1  1  1  1 -1  1  1 -1  1  1  1  1  1  1  1\n",
      "  1  1  1  1  1  1  1 -1  1  1  1  1 -1  1  1  1  1  1  1  1  1  1  1  1  1\n",
      " -1  1 -1  1  1  1  1  1  1 -1  1  1  1  1  1  1  1  1  1  1  1  1  1  1 -1\n",
      "  1  1  1 -1 -1  1  1  1  1  1  1  1  1  1  1  1  1  1  1  1  1  1  1  1  1\n",
      "  1  1]\n",
      "Acc: 0.649717514124\n"
     ]
    }
   ],
   "source": [
    "from sklearn.ensemble import IsolationForest\n",
    "clf = IsolationForest()\n",
    "clf.fit(X)\n",
    "y_pred = clf.predict(X)\n",
    "print(y_pred)\n",
    "print(\"Acc:\", accuracy_score(y_true, y_pred))"
   ]
  },
  {
   "cell_type": "code",
   "execution_count": 161,
   "metadata": {},
   "outputs": [
    {
     "name": "stdout",
     "output_type": "stream",
     "text": [
      "[ 1  1  1  1  1  1  1  1  1  1  1  1  1  1  1  1  1  1  1  1 -1 -1  1  1  1\n",
      "  1  1 -1  1  1  1  1  1  1  1  1  1  1  1  1  1  1  1  1  1  1  1  1  1  1\n",
      "  1  1  1 -1 -1  1  1  1 -1  1  1  1  1  1 -1  1  1  1  1  1  1  1  1  1  1\n",
      "  1  1  1  1  1  1  1 -1  1  1  1  1  1  1 -1  1  1 -1  1  1  1  1  1  1  1\n",
      "  1  1  1  1  1  1  1 -1  1  1  1  1 -1  1  1  1  1  1  1  1  1  1  1  1  1\n",
      " -1  1 -1  1  1  1  1  1  1 -1  1  1  1  1  1  1  1  1  1  1  1  1  1  1 -1\n",
      "  1  1  1 -1 -1  1  1  1  1  1  1  1  1  1  1  1  1  1  1  1  1  1  1  1  1\n",
      "  1  1]\n",
      "Acc:  0.649717514124\n"
     ]
    }
   ],
   "source": [
    "from sklearn.neighbors import LocalOutlierFactor\n",
    "clf = LocalOutlierFactor()\n",
    "y_pred = clf.fit_predict(X)\n",
    "print(y_pred)\n",
    "print(\"Acc: \", accuracy_score(y_true, y_pred))"
   ]
  },
  {
   "cell_type": "code",
   "execution_count": 162,
   "metadata": {},
   "outputs": [
    {
     "name": "stdout",
     "output_type": "stream",
     "text": [
      "[ 1 -1 -1  1  1  1 -1  1  1  1  1 -1  1  1 -1  1  1  1 -1 -1  1  1  1 -1 -1\n",
      "  1 -1  1  1 -1  1  1  1  1  1 -1  1 -1  1 -1 -1 -1  1 -1  1  1  1 -1  1  1\n",
      "  1  1  1  1  1  1  1  1  1  1  1  1  1  1  1  1  1  1  1  1  1  1  1  1  1\n",
      "  1  1  1  1  1  1  1  1  1  1  1  1  1  1  1  1  1  1  1  1  1  1  1  1  1\n",
      "  1  1  1  1  1  1  1  1  1  1  1  1  1  1  1  1  1  1  1  1  1  1  1  1  1\n",
      "  1  1  1  1  1  1  1  1  1  1  1  1  1  1  1  1  1  1  1  1  1  1  1  1  1\n",
      "  1  1  1  1  1  1  1  1  1  1  1  1  1  1  1  1  1  1  1  1  1  1  1  1  1\n",
      "  1  1]\n",
      "Acc: 0.819209039548\n"
     ]
    }
   ],
   "source": [
    "from sklearn.covariance import EllipticEnvelope\n",
    "clf = EllipticEnvelope()\n",
    "clf.fit(X)\n",
    "y_pred = clf.predict(X)\n",
    "print(y_pred)\n",
    "print(\"Acc:\", accuracy_score(y_true, y_pred))"
   ]
  },
  {
   "cell_type": "code",
   "execution_count": 163,
   "metadata": {},
   "outputs": [
    {
     "data": {
      "text/plain": [
       "array([1])"
      ]
     },
     "execution_count": 163,
     "metadata": {},
     "output_type": "execute_result"
    }
   ],
   "source": [
    "clf.predict(X[:1])"
   ]
  },
  {
   "cell_type": "code",
   "execution_count": null,
   "metadata": {},
   "outputs": [],
   "source": []
  },
  {
   "cell_type": "code",
   "execution_count": null,
   "metadata": {},
   "outputs": [],
   "source": []
  },
  {
   "cell_type": "code",
   "execution_count": null,
   "metadata": {},
   "outputs": [],
   "source": []
  }
 ],
 "metadata": {
  "kernelspec": {
   "display_name": "Python 3",
   "language": "python",
   "name": "python3"
  },
  "language_info": {
   "codemirror_mode": {
    "name": "ipython",
    "version": 3
   },
   "file_extension": ".py",
   "mimetype": "text/x-python",
   "name": "python",
   "nbconvert_exporter": "python",
   "pygments_lexer": "ipython3",
   "version": "3.5.2"
  }
 },
 "nbformat": 4,
 "nbformat_minor": 2
}
